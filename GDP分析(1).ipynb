{
  "nbformat": 4,
  "nbformat_minor": 0,
  "metadata": {
    "colab": {
      "provenance": [],
      "toc_visible": true
    },
    "kernelspec": {
      "name": "python3",
      "display_name": "Python 3"
    },
    "language_info": {
      "name": "python"
    }
  },
  "cells": [
    {
      "cell_type": "code",
      "execution_count": null,
      "metadata": {
        "id": "q38XD0FRMmQQ"
      },
      "outputs": [],
      "source": [
        "import pandas as pd"
      ]
    },
    {
      "cell_type": "code",
      "source": [
        "# 读取Excel文件\n",
        "df = pd.read_excel('./final_exam_dataset.xlsx')\n",
        "\n",
        "# 显示DataFrame的内容\n",
        "df"
      ],
      "metadata": {
        "colab": {
          "base_uri": "https://localhost:8080/",
          "height": 423
        },
        "id": "B7SVmleLgl9y",
        "outputId": "ce101d54-f79d-456b-c1aa-091e87f003bb"
      },
      "execution_count": 42,
      "outputs": [
        {
          "output_type": "execute_result",
          "data": {
            "text/plain": [
              "    Unnamed: 0      実質消費     実質GDP      預金金利\n",
              "0   1994-03-01  247506.1  446276.5  2.036667\n",
              "1   1994-06-01  248845.9  443822.8  1.992333\n",
              "2   1994-09-01  250605.7  448928.5  2.049000\n",
              "3   1994-12-01  250737.5  447124.9  2.166667\n",
              "4   1995-03-01  252915.2  452096.3  2.089333\n",
              "..         ...       ...       ...       ...\n",
              "111 2021-12-01  292739.9  544376.8  0.052333\n",
              "112 2022-03-01  290007.1  541843.6  0.048333\n",
              "113 2022-06-01  294688.4  548075.3  0.051667\n",
              "114 2022-09-01  294756.1  546607.5  0.061000\n",
              "115 2022-12-01  295742.7  546735.1  0.056667\n",
              "\n",
              "[116 rows x 4 columns]"
            ],
            "text/html": [
              "\n",
              "\n",
              "  <div id=\"df-ea2182a6-9f24-4b01-bd75-5bc6c7d42f97\">\n",
              "    <div class=\"colab-df-container\">\n",
              "      <div>\n",
              "<style scoped>\n",
              "    .dataframe tbody tr th:only-of-type {\n",
              "        vertical-align: middle;\n",
              "    }\n",
              "\n",
              "    .dataframe tbody tr th {\n",
              "        vertical-align: top;\n",
              "    }\n",
              "\n",
              "    .dataframe thead th {\n",
              "        text-align: right;\n",
              "    }\n",
              "</style>\n",
              "<table border=\"1\" class=\"dataframe\">\n",
              "  <thead>\n",
              "    <tr style=\"text-align: right;\">\n",
              "      <th></th>\n",
              "      <th>Unnamed: 0</th>\n",
              "      <th>実質消費</th>\n",
              "      <th>実質GDP</th>\n",
              "      <th>預金金利</th>\n",
              "    </tr>\n",
              "  </thead>\n",
              "  <tbody>\n",
              "    <tr>\n",
              "      <th>0</th>\n",
              "      <td>1994-03-01</td>\n",
              "      <td>247506.1</td>\n",
              "      <td>446276.5</td>\n",
              "      <td>2.036667</td>\n",
              "    </tr>\n",
              "    <tr>\n",
              "      <th>1</th>\n",
              "      <td>1994-06-01</td>\n",
              "      <td>248845.9</td>\n",
              "      <td>443822.8</td>\n",
              "      <td>1.992333</td>\n",
              "    </tr>\n",
              "    <tr>\n",
              "      <th>2</th>\n",
              "      <td>1994-09-01</td>\n",
              "      <td>250605.7</td>\n",
              "      <td>448928.5</td>\n",
              "      <td>2.049000</td>\n",
              "    </tr>\n",
              "    <tr>\n",
              "      <th>3</th>\n",
              "      <td>1994-12-01</td>\n",
              "      <td>250737.5</td>\n",
              "      <td>447124.9</td>\n",
              "      <td>2.166667</td>\n",
              "    </tr>\n",
              "    <tr>\n",
              "      <th>4</th>\n",
              "      <td>1995-03-01</td>\n",
              "      <td>252915.2</td>\n",
              "      <td>452096.3</td>\n",
              "      <td>2.089333</td>\n",
              "    </tr>\n",
              "    <tr>\n",
              "      <th>...</th>\n",
              "      <td>...</td>\n",
              "      <td>...</td>\n",
              "      <td>...</td>\n",
              "      <td>...</td>\n",
              "    </tr>\n",
              "    <tr>\n",
              "      <th>111</th>\n",
              "      <td>2021-12-01</td>\n",
              "      <td>292739.9</td>\n",
              "      <td>544376.8</td>\n",
              "      <td>0.052333</td>\n",
              "    </tr>\n",
              "    <tr>\n",
              "      <th>112</th>\n",
              "      <td>2022-03-01</td>\n",
              "      <td>290007.1</td>\n",
              "      <td>541843.6</td>\n",
              "      <td>0.048333</td>\n",
              "    </tr>\n",
              "    <tr>\n",
              "      <th>113</th>\n",
              "      <td>2022-06-01</td>\n",
              "      <td>294688.4</td>\n",
              "      <td>548075.3</td>\n",
              "      <td>0.051667</td>\n",
              "    </tr>\n",
              "    <tr>\n",
              "      <th>114</th>\n",
              "      <td>2022-09-01</td>\n",
              "      <td>294756.1</td>\n",
              "      <td>546607.5</td>\n",
              "      <td>0.061000</td>\n",
              "    </tr>\n",
              "    <tr>\n",
              "      <th>115</th>\n",
              "      <td>2022-12-01</td>\n",
              "      <td>295742.7</td>\n",
              "      <td>546735.1</td>\n",
              "      <td>0.056667</td>\n",
              "    </tr>\n",
              "  </tbody>\n",
              "</table>\n",
              "<p>116 rows × 4 columns</p>\n",
              "</div>\n",
              "      <button class=\"colab-df-convert\" onclick=\"convertToInteractive('df-ea2182a6-9f24-4b01-bd75-5bc6c7d42f97')\"\n",
              "              title=\"Convert this dataframe to an interactive table.\"\n",
              "              style=\"display:none;\">\n",
              "\n",
              "  <svg xmlns=\"http://www.w3.org/2000/svg\" height=\"24px\"viewBox=\"0 0 24 24\"\n",
              "       width=\"24px\">\n",
              "    <path d=\"M0 0h24v24H0V0z\" fill=\"none\"/>\n",
              "    <path d=\"M18.56 5.44l.94 2.06.94-2.06 2.06-.94-2.06-.94-.94-2.06-.94 2.06-2.06.94zm-11 1L8.5 8.5l.94-2.06 2.06-.94-2.06-.94L8.5 2.5l-.94 2.06-2.06.94zm10 10l.94 2.06.94-2.06 2.06-.94-2.06-.94-.94-2.06-.94 2.06-2.06.94z\"/><path d=\"M17.41 7.96l-1.37-1.37c-.4-.4-.92-.59-1.43-.59-.52 0-1.04.2-1.43.59L10.3 9.45l-7.72 7.72c-.78.78-.78 2.05 0 2.83L4 21.41c.39.39.9.59 1.41.59.51 0 1.02-.2 1.41-.59l7.78-7.78 2.81-2.81c.8-.78.8-2.07 0-2.86zM5.41 20L4 18.59l7.72-7.72 1.47 1.35L5.41 20z\"/>\n",
              "  </svg>\n",
              "      </button>\n",
              "\n",
              "\n",
              "\n",
              "    <div id=\"df-26113a15-1a5d-4025-9269-62ccd2b9eb7f\">\n",
              "      <button class=\"colab-df-quickchart\" onclick=\"quickchart('df-26113a15-1a5d-4025-9269-62ccd2b9eb7f')\"\n",
              "              title=\"Suggest charts.\"\n",
              "              style=\"display:none;\">\n",
              "\n",
              "<svg xmlns=\"http://www.w3.org/2000/svg\" height=\"24px\"viewBox=\"0 0 24 24\"\n",
              "     width=\"24px\">\n",
              "    <g>\n",
              "        <path d=\"M19 3H5c-1.1 0-2 .9-2 2v14c0 1.1.9 2 2 2h14c1.1 0 2-.9 2-2V5c0-1.1-.9-2-2-2zM9 17H7v-7h2v7zm4 0h-2V7h2v10zm4 0h-2v-4h2v4z\"/>\n",
              "    </g>\n",
              "</svg>\n",
              "      </button>\n",
              "    </div>\n",
              "\n",
              "<style>\n",
              "  .colab-df-quickchart {\n",
              "    background-color: #E8F0FE;\n",
              "    border: none;\n",
              "    border-radius: 50%;\n",
              "    cursor: pointer;\n",
              "    display: none;\n",
              "    fill: #1967D2;\n",
              "    height: 32px;\n",
              "    padding: 0 0 0 0;\n",
              "    width: 32px;\n",
              "  }\n",
              "\n",
              "  .colab-df-quickchart:hover {\n",
              "    background-color: #E2EBFA;\n",
              "    box-shadow: 0px 1px 2px rgba(60, 64, 67, 0.3), 0px 1px 3px 1px rgba(60, 64, 67, 0.15);\n",
              "    fill: #174EA6;\n",
              "  }\n",
              "\n",
              "  [theme=dark] .colab-df-quickchart {\n",
              "    background-color: #3B4455;\n",
              "    fill: #D2E3FC;\n",
              "  }\n",
              "\n",
              "  [theme=dark] .colab-df-quickchart:hover {\n",
              "    background-color: #434B5C;\n",
              "    box-shadow: 0px 1px 3px 1px rgba(0, 0, 0, 0.15);\n",
              "    filter: drop-shadow(0px 1px 2px rgba(0, 0, 0, 0.3));\n",
              "    fill: #FFFFFF;\n",
              "  }\n",
              "</style>\n",
              "\n",
              "    <script>\n",
              "      async function quickchart(key) {\n",
              "        const containerElement = document.querySelector('#' + key);\n",
              "        const charts = await google.colab.kernel.invokeFunction(\n",
              "            'suggestCharts', [key], {});\n",
              "      }\n",
              "    </script>\n",
              "\n",
              "      <script>\n",
              "\n",
              "function displayQuickchartButton(domScope) {\n",
              "  let quickchartButtonEl =\n",
              "    domScope.querySelector('#df-26113a15-1a5d-4025-9269-62ccd2b9eb7f button.colab-df-quickchart');\n",
              "  quickchartButtonEl.style.display =\n",
              "    google.colab.kernel.accessAllowed ? 'block' : 'none';\n",
              "}\n",
              "\n",
              "        displayQuickchartButton(document);\n",
              "      </script>\n",
              "      <style>\n",
              "    .colab-df-container {\n",
              "      display:flex;\n",
              "      flex-wrap:wrap;\n",
              "      gap: 12px;\n",
              "    }\n",
              "\n",
              "    .colab-df-convert {\n",
              "      background-color: #E8F0FE;\n",
              "      border: none;\n",
              "      border-radius: 50%;\n",
              "      cursor: pointer;\n",
              "      display: none;\n",
              "      fill: #1967D2;\n",
              "      height: 32px;\n",
              "      padding: 0 0 0 0;\n",
              "      width: 32px;\n",
              "    }\n",
              "\n",
              "    .colab-df-convert:hover {\n",
              "      background-color: #E2EBFA;\n",
              "      box-shadow: 0px 1px 2px rgba(60, 64, 67, 0.3), 0px 1px 3px 1px rgba(60, 64, 67, 0.15);\n",
              "      fill: #174EA6;\n",
              "    }\n",
              "\n",
              "    [theme=dark] .colab-df-convert {\n",
              "      background-color: #3B4455;\n",
              "      fill: #D2E3FC;\n",
              "    }\n",
              "\n",
              "    [theme=dark] .colab-df-convert:hover {\n",
              "      background-color: #434B5C;\n",
              "      box-shadow: 0px 1px 3px 1px rgba(0, 0, 0, 0.15);\n",
              "      filter: drop-shadow(0px 1px 2px rgba(0, 0, 0, 0.3));\n",
              "      fill: #FFFFFF;\n",
              "    }\n",
              "  </style>\n",
              "\n",
              "      <script>\n",
              "        const buttonEl =\n",
              "          document.querySelector('#df-ea2182a6-9f24-4b01-bd75-5bc6c7d42f97 button.colab-df-convert');\n",
              "        buttonEl.style.display =\n",
              "          google.colab.kernel.accessAllowed ? 'block' : 'none';\n",
              "\n",
              "        async function convertToInteractive(key) {\n",
              "          const element = document.querySelector('#df-ea2182a6-9f24-4b01-bd75-5bc6c7d42f97');\n",
              "          const dataTable =\n",
              "            await google.colab.kernel.invokeFunction('convertToInteractive',\n",
              "                                                     [key], {});\n",
              "          if (!dataTable) return;\n",
              "\n",
              "          const docLinkHtml = 'Like what you see? Visit the ' +\n",
              "            '<a target=\"_blank\" href=https://colab.research.google.com/notebooks/data_table.ipynb>data table notebook</a>'\n",
              "            + ' to learn more about interactive tables.';\n",
              "          element.innerHTML = '';\n",
              "          dataTable['output_type'] = 'display_data';\n",
              "          await google.colab.output.renderOutput(dataTable, element);\n",
              "          const docLink = document.createElement('div');\n",
              "          docLink.innerHTML = docLinkHtml;\n",
              "          element.appendChild(docLink);\n",
              "        }\n",
              "      </script>\n",
              "    </div>\n",
              "  </div>\n"
            ]
          },
          "metadata": {},
          "execution_count": 42
        }
      ]
    },
    {
      "cell_type": "code",
      "source": [],
      "metadata": {
        "id": "1i-Ayk4MnEoc"
      },
      "execution_count": null,
      "outputs": []
    },
    {
      "cell_type": "code",
      "source": [
        "# 查看数据信息\n",
        "df.info()"
      ],
      "metadata": {
        "colab": {
          "base_uri": "https://localhost:8080/"
        },
        "id": "oXwdEJMghs5_",
        "outputId": "c37110a4-5340-43fa-9a1a-5b713a8530ba"
      },
      "execution_count": null,
      "outputs": [
        {
          "output_type": "stream",
          "name": "stdout",
          "text": [
            "<class 'pandas.core.frame.DataFrame'>\n",
            "RangeIndex: 116 entries, 0 to 115\n",
            "Data columns (total 4 columns):\n",
            " #   Column      Non-Null Count  Dtype         \n",
            "---  ------      --------------  -----         \n",
            " 0   Unnamed: 0  116 non-null    datetime64[ns]\n",
            " 1   実質消費        116 non-null    float64       \n",
            " 2   実質GDP       116 non-null    float64       \n",
            " 3   預金金利        116 non-null    float64       \n",
            "dtypes: datetime64[ns](1), float64(3)\n",
            "memory usage: 3.8 KB\n"
          ]
        }
      ]
    },
    {
      "cell_type": "code",
      "source": [
        "import matplotlib.pyplot as plt\n",
        "\n",
        "plt.rcParams['font.family'] = 'DejaVu Sans'"
      ],
      "metadata": {
        "id": "G2q4pqMdiJTa"
      },
      "execution_count": 53,
      "outputs": []
    },
    {
      "cell_type": "code",
      "source": [
        "# 提取实际消费和实际GDP的数据列\n",
        "consumption = df['実質消費']\n",
        "gdp = df['実質GDP']\n",
        "\n",
        "# 创建折线图\n",
        "plt.plot(df['Unnamed: 0'], consumption, label='Real Consumption')\n",
        "plt.plot(df['Unnamed: 0'], gdp, label='Real GDP')\n",
        "\n",
        "# 添加图例、标题和坐标轴标签\n",
        "plt.legend()\n",
        "plt.title('Line Plot of Real Consumption and Real GDP')\n",
        "plt.xlabel('Date')\n",
        "plt.ylabel('Amount')\n",
        "\n",
        "# 显示图表\n",
        "plt.show()"
      ],
      "metadata": {
        "colab": {
          "base_uri": "https://localhost:8080/",
          "height": 472
        },
        "id": "22SSxfphiRxZ",
        "outputId": "9e0852b5-5866-41d5-c322-23e55f894ebf"
      },
      "execution_count": 54,
      "outputs": [
        {
          "output_type": "display_data",
          "data": {
            "text/plain": [
              "<Figure size 640x480 with 1 Axes>"
            ],
            "image/png": "[encoded data removed]"
          },
          "metadata": {}
        }
      ]
    },
    {
      "cell_type": "markdown",
      "source": [
        "折线图中的横轴表示日期，纵轴表示金额。图中会有两条线，一条表示实际消费，另一条表示实际GDP。通过观察这两条线的变化趋势，可以比较实际消费和实际GDP之间的关系。"
      ],
      "metadata": {
        "id": "6OSUON6TizOl"
      }
    },
    {
      "cell_type": "code",
      "source": [
        "# 提取实际消费和实际GDP的数据列\n",
        "consumption = df['実質消費']\n",
        "gdp = df['実質GDP']\n",
        "\n",
        "# 创建分布图\n",
        "plt.hist(consumption, bins=20, alpha=0.5, label='Real Consumption')\n",
        "plt.hist(gdp, bins=20, alpha=0.5, label='Real GDP')\n",
        "\n",
        "# 添加图例、标题和坐标轴标签\n",
        "plt.legend()\n",
        "plt.title('Histogram Plot of Real Consumption and Real GDP')\n",
        "plt.xlabel('Amount')\n",
        "plt.ylabel('Frequency')\n",
        "\n",
        "# 显示图表\n",
        "plt.show()"
      ],
      "metadata": {
        "colab": {
          "base_uri": "https://localhost:8080/",
          "height": 472
        },
        "id": "f4mphIcxiUDK",
        "outputId": "b078776e-5339-4a78-b1c9-6fb53ddeaf26"
      },
      "execution_count": 55,
      "outputs": [
        {
          "output_type": "display_data",
          "data": {
            "text/plain": [
              "<Figure size 640x480 with 1 Axes>"
            ],
            "image/png": "[encoded data removed]"
          },
          "metadata": {}
        }
      ]
    },
    {
      "cell_type": "markdown",
      "source": [
        "分布图将显示实际消费和实际GDP各自的数据分布情况。图中将有两个直方图，一个表示实际消费，另一个表示实际GDP。通过观察直方图的高度和分布形状，可以了解实际消费和实际GDP的数据分布情况。"
      ],
      "metadata": {
        "id": "7NL8rLM4i6pG"
      }
    },
    {
      "cell_type": "code",
      "source": [
        "import statsmodels.api as sm\n"
      ],
      "metadata": {
        "id": "_B0H6Lm1i9SR"
      },
      "execution_count": null,
      "outputs": []
    },
    {
      "cell_type": "code",
      "source": [
        "# 提取实际消费和实际GDP的数据列\n",
        "consumption = df['実質消費']\n",
        "gdp = df['実質GDP']\n",
        "\n",
        "# 添加常数列\n",
        "X = sm.add_constant(gdp)\n",
        "\n",
        "# 创建线性回归模型\n",
        "model = sm.OLS(consumption, X)\n",
        "\n",
        "# 拟合模型\n",
        "results = model.fit()\n",
        "\n",
        "# 打印回归结果\n",
        "print(results.summary())"
      ],
      "metadata": {
        "colab": {
          "base_uri": "https://localhost:8080/"
        },
        "id": "RXOI9-Q2jGSJ",
        "outputId": "6931fa2d-bae8-44e5-8bc9-f01f39788e30"
      },
      "execution_count": null,
      "outputs": [
        {
          "output_type": "stream",
          "name": "stdout",
          "text": [
            "                            OLS Regression Results                            \n",
            "==============================================================================\n",
            "Dep. Variable:                   実質消費   R-squared:                       0.879\n",
            "Model:                            OLS   Adj. R-squared:                  0.878\n",
            "Method:                 Least Squares   F-statistic:                     829.5\n",
            "Date:                Tue, 18 Jul 2023   Prob (F-statistic):           3.83e-54\n",
            "Time:                        10:34:40   Log-Likelihood:                -1163.6\n",
            "No. Observations:                 116   AIC:                             2331.\n",
            "Df Residuals:                     114   BIC:                             2337.\n",
            "Df Model:                           1                                         \n",
            "Covariance Type:            nonrobust                                         \n",
            "==============================================================================\n",
            "                 coef    std err          t      P>|t|      [0.025      0.975]\n",
            "------------------------------------------------------------------------------\n",
            "const       3.488e+04   8643.045      4.035      0.000    1.78e+04     5.2e+04\n",
            "実質GDP          0.4881      0.017     28.801      0.000       0.455       0.522\n",
            "==============================================================================\n",
            "Omnibus:                        2.868   Durbin-Watson:                   0.170\n",
            "Prob(Omnibus):                  0.238   Jarque-Bera (JB):                2.892\n",
            "Skew:                           0.365   Prob(JB):                        0.236\n",
            "Kurtosis:                       2.742   Cond. No.                     8.56e+06\n",
            "==============================================================================\n",
            "\n",
            "Notes:\n",
            "[1] Standard Errors assume that the covariance matrix of the errors is correctly specified.\n",
            "[2] The condition number is large, 8.56e+06. This might indicate that there are\n",
            "strong multicollinearity or other numerical problems.\n"
          ]
        }
      ]
    },
    {
      "cell_type": "markdown",
      "source": [
        "将进行单变量线性回归分析，使用实际GDP作为自变量（X）和实际消费作为因变量（Y）。回归模型将添加常数列，并使用sm.OLS函数创建线性回归模型。然后，通过调用fit方法来拟合模型，并将结果存储在results变量中。\n",
        "\n",
        "最后，使用results.summary()打印回归结果的摘要统计信息，包括回归系数、截距、拟合优度、p值等。\n"
      ],
      "metadata": {
        "id": "hCUjN1XGjPSl"
      }
    },
    {
      "cell_type": "code",
      "source": [
        "# 提取实际消费、实际GDP和存款利率的数据列\n",
        "consumption = df['実質消費']\n",
        "gdp = df['実質GDP']\n",
        "interest_rate = df['預金金利']\n",
        "\n",
        "# 创建自变量矩阵\n",
        "X = sm.add_constant(pd.concat([gdp, interest_rate], axis=1))\n",
        "\n",
        "# 创建线性回归模型\n",
        "model = sm.OLS(consumption, X)\n",
        "\n",
        "# 拟合模型\n",
        "results = model.fit()\n",
        "\n",
        "# 打印回归结果\n",
        "print(results.summary())"
      ],
      "metadata": {
        "colab": {
          "base_uri": "https://localhost:8080/"
        },
        "id": "ItSeSw5ijJI0",
        "outputId": "c1534138-3957-4adc-ed89-ff0916b7e1da"
      },
      "execution_count": null,
      "outputs": [
        {
          "output_type": "stream",
          "name": "stdout",
          "text": [
            "                            OLS Regression Results                            \n",
            "==============================================================================\n",
            "Dep. Variable:                   実質消費   R-squared:                       0.886\n",
            "Model:                            OLS   Adj. R-squared:                  0.884\n",
            "Method:                 Least Squares   F-statistic:                     440.5\n",
            "Date:                Tue, 18 Jul 2023   Prob (F-statistic):           4.45e-54\n",
            "Time:                        10:34:43   Log-Likelihood:                -1160.1\n",
            "No. Observations:                 116   AIC:                             2326.\n",
            "Df Residuals:                     113   BIC:                             2334.\n",
            "Df Model:                           2                                         \n",
            "Covariance Type:            nonrobust                                         \n",
            "==============================================================================\n",
            "                 coef    std err          t      P>|t|      [0.025      0.975]\n",
            "------------------------------------------------------------------------------\n",
            "const       5.294e+04   1.08e+04      4.896      0.000    3.15e+04    7.44e+04\n",
            "実質GDP          0.4548      0.021     21.954      0.000       0.414       0.496\n",
            "預金金利       -3929.7339   1475.536     -2.663      0.009   -6853.037   -1006.431\n",
            "==============================================================================\n",
            "Omnibus:                        1.866   Durbin-Watson:                   0.183\n",
            "Prob(Omnibus):                  0.393   Jarque-Bera (JB):                1.735\n",
            "Skew:                           0.298   Prob(JB):                        0.420\n",
            "Kurtosis:                       2.933   Cond. No.                     1.10e+07\n",
            "==============================================================================\n",
            "\n",
            "Notes:\n",
            "[1] Standard Errors assume that the covariance matrix of the errors is correctly specified.\n",
            "[2] The condition number is large, 1.1e+07. This might indicate that there are\n",
            "strong multicollinearity or other numerical problems.\n"
          ]
        }
      ]
    },
    {
      "cell_type": "markdown",
      "source": [
        "使用实际GDP和存款利率作为自变量（X），实际消费作为因变量（Y）。自变量矩阵X将添加常数列，并使用sm.OLS函数创建线性回归模型。然后，通过调用fit方法来拟合模型，并将结果存储在results变量中。\n",
        "\n",
        "最后，使用results.summary()打印回归结果的摘要统计信息，包括回归系数、截距、拟合优度、p值等。"
      ],
      "metadata": {
        "id": "SqgmniefjZr-"
      }
    }
  ]
}